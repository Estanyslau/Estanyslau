{
  "nbformat": 4,
  "nbformat_minor": 0,
  "metadata": {
    "colab": {
      "provenance": [],
      "authorship_tag": "ABX9TyMColPFbFSoWsQJJ/bJCTlC",
      "include_colab_link": true
    },
    "kernelspec": {
      "name": "python3",
      "display_name": "Python 3"
    },
    "language_info": {
      "name": "python"
    }
  },
  "cells": [
    {
      "cell_type": "markdown",
      "metadata": {
        "id": "view-in-github",
        "colab_type": "text"
      },
      "source": [
        "<a href=\"https://colab.research.google.com/github/Estanyslau/Estanyslau/blob/main/MukuvaChat.ipynb\" target=\"_parent\"><img src=\"https://colab.research.google.com/assets/colab-badge.svg\" alt=\"Open In Colab\"/></a>"
      ]
    },
    {
      "cell_type": "code",
      "execution_count": 37,
      "metadata": {
        "colab": {
          "base_uri": "https://localhost:8080/",
          "height": 879
        },
        "id": "sXgtinClxgSY",
        "outputId": "6cf24c26-22b4-4a21-b93c-c860e93125ed"
      },
      "outputs": [
        {
          "output_type": "stream",
          "name": "stdout",
          "text": [
            "Requirement already satisfied: google-generativeai in /usr/local/lib/python3.10/dist-packages (0.5.4)\n",
            "Collecting google-generativeai\n",
            "  Downloading google_generativeai-0.7.0-py3-none-any.whl (163 kB)\n",
            "\u001b[2K     \u001b[90m━━━━━━━━━━━━━━━━━━━━━━━━━━━━━━━━━━━━━━━━\u001b[0m \u001b[32m163.1/163.1 kB\u001b[0m \u001b[31m4.8 MB/s\u001b[0m eta \u001b[36m0:00:00\u001b[0m\n",
            "\u001b[?25hCollecting google-ai-generativelanguage==0.6.5 (from google-generativeai)\n",
            "  Downloading google_ai_generativelanguage-0.6.5-py3-none-any.whl (717 kB)\n",
            "\u001b[2K     \u001b[90m━━━━━━━━━━━━━━━━━━━━━━━━━━━━━━━━━━━━━━━━\u001b[0m \u001b[32m717.3/717.3 kB\u001b[0m \u001b[31m46.6 MB/s\u001b[0m eta \u001b[36m0:00:00\u001b[0m\n",
            "\u001b[?25hRequirement already satisfied: google-api-core in /usr/local/lib/python3.10/dist-packages (from google-generativeai) (2.11.1)\n",
            "Requirement already satisfied: google-api-python-client in /usr/local/lib/python3.10/dist-packages (from google-generativeai) (2.84.0)\n",
            "Requirement already satisfied: google-auth>=2.15.0 in /usr/local/lib/python3.10/dist-packages (from google-generativeai) (2.27.0)\n",
            "Requirement already satisfied: protobuf in /usr/local/lib/python3.10/dist-packages (from google-generativeai) (3.20.3)\n",
            "Requirement already satisfied: pydantic in /usr/local/lib/python3.10/dist-packages (from google-generativeai) (2.7.3)\n",
            "Requirement already satisfied: tqdm in /usr/local/lib/python3.10/dist-packages (from google-generativeai) (4.66.4)\n",
            "Requirement already satisfied: typing-extensions in /usr/local/lib/python3.10/dist-packages (from google-generativeai) (4.12.2)\n",
            "Requirement already satisfied: proto-plus<2.0.0dev,>=1.22.3 in /usr/local/lib/python3.10/dist-packages (from google-ai-generativelanguage==0.6.5->google-generativeai) (1.23.0)\n",
            "Requirement already satisfied: cachetools<6.0,>=2.0.0 in /usr/local/lib/python3.10/dist-packages (from google-auth>=2.15.0->google-generativeai) (5.3.3)\n",
            "Requirement already satisfied: pyasn1-modules>=0.2.1 in /usr/local/lib/python3.10/dist-packages (from google-auth>=2.15.0->google-generativeai) (0.4.0)\n",
            "Requirement already satisfied: rsa<5,>=3.1.4 in /usr/local/lib/python3.10/dist-packages (from google-auth>=2.15.0->google-generativeai) (4.9)\n",
            "Requirement already satisfied: googleapis-common-protos<2.0.dev0,>=1.56.2 in /usr/local/lib/python3.10/dist-packages (from google-api-core->google-generativeai) (1.63.1)\n",
            "Requirement already satisfied: requests<3.0.0.dev0,>=2.18.0 in /usr/local/lib/python3.10/dist-packages (from google-api-core->google-generativeai) (2.31.0)\n",
            "Requirement already satisfied: httplib2<1dev,>=0.15.0 in /usr/local/lib/python3.10/dist-packages (from google-api-python-client->google-generativeai) (0.22.0)\n",
            "Requirement already satisfied: google-auth-httplib2>=0.1.0 in /usr/local/lib/python3.10/dist-packages (from google-api-python-client->google-generativeai) (0.1.1)\n",
            "Requirement already satisfied: uritemplate<5,>=3.0.1 in /usr/local/lib/python3.10/dist-packages (from google-api-python-client->google-generativeai) (4.1.1)\n",
            "Requirement already satisfied: annotated-types>=0.4.0 in /usr/local/lib/python3.10/dist-packages (from pydantic->google-generativeai) (0.7.0)\n",
            "Requirement already satisfied: pydantic-core==2.18.4 in /usr/local/lib/python3.10/dist-packages (from pydantic->google-generativeai) (2.18.4)\n",
            "Requirement already satisfied: grpcio<2.0dev,>=1.33.2 in /usr/local/lib/python3.10/dist-packages (from google-api-core->google-generativeai) (1.64.1)\n",
            "Requirement already satisfied: grpcio-status<2.0.dev0,>=1.33.2 in /usr/local/lib/python3.10/dist-packages (from google-api-core->google-generativeai) (1.48.2)\n",
            "Requirement already satisfied: pyparsing!=3.0.0,!=3.0.1,!=3.0.2,!=3.0.3,<4,>=2.4.2 in /usr/local/lib/python3.10/dist-packages (from httplib2<1dev,>=0.15.0->google-api-python-client->google-generativeai) (3.1.2)\n",
            "Requirement already satisfied: pyasn1<0.7.0,>=0.4.6 in /usr/local/lib/python3.10/dist-packages (from pyasn1-modules>=0.2.1->google-auth>=2.15.0->google-generativeai) (0.6.0)\n",
            "Requirement already satisfied: charset-normalizer<4,>=2 in /usr/local/lib/python3.10/dist-packages (from requests<3.0.0.dev0,>=2.18.0->google-api-core->google-generativeai) (3.3.2)\n",
            "Requirement already satisfied: idna<4,>=2.5 in /usr/local/lib/python3.10/dist-packages (from requests<3.0.0.dev0,>=2.18.0->google-api-core->google-generativeai) (3.7)\n",
            "Requirement already satisfied: urllib3<3,>=1.21.1 in /usr/local/lib/python3.10/dist-packages (from requests<3.0.0.dev0,>=2.18.0->google-api-core->google-generativeai) (2.0.7)\n",
            "Requirement already satisfied: certifi>=2017.4.17 in /usr/local/lib/python3.10/dist-packages (from requests<3.0.0.dev0,>=2.18.0->google-api-core->google-generativeai) (2024.6.2)\n",
            "Installing collected packages: google-ai-generativelanguage, google-generativeai\n",
            "  Attempting uninstall: google-ai-generativelanguage\n",
            "    Found existing installation: google-ai-generativelanguage 0.6.4\n",
            "    Uninstalling google-ai-generativelanguage-0.6.4:\n",
            "      Successfully uninstalled google-ai-generativelanguage-0.6.4\n",
            "  Attempting uninstall: google-generativeai\n",
            "    Found existing installation: google-generativeai 0.5.4\n",
            "    Uninstalling google-generativeai-0.5.4:\n",
            "      Successfully uninstalled google-generativeai-0.5.4\n",
            "Successfully installed google-ai-generativelanguage-0.6.5 google-generativeai-0.7.0\n"
          ]
        },
        {
          "output_type": "display_data",
          "data": {
            "application/vnd.colab-display-data+json": {
              "pip_warning": {
                "packages": [
                  "google"
                ]
              },
              "id": "57f8c74007524d56b56f5155a53082bb"
            }
          },
          "metadata": {}
        }
      ],
      "source": [
        "!pip install --upgrade google-generativeai"
      ]
    },
    {
      "cell_type": "code",
      "source": [
        "import google.generativeai as Mukuva"
      ],
      "metadata": {
        "id": "0AI0PE_O1_wF"
      },
      "execution_count": 1,
      "outputs": []
    },
    {
      "cell_type": "code",
      "source": [
        "from google.colab import userdata\n",
        "\n",
        "GOOGLE_Mukuva_API_KEY = userdata.get('GOOGLE_Mukuva_API_KEY')\n",
        "\n",
        "Mukuva.configure(api_key=GOOGLE_Mukuva_API_KEY)"
      ],
      "metadata": {
        "id": "YYe2u6Z92QeH"
      },
      "execution_count": 2,
      "outputs": []
    },
    {
      "cell_type": "code",
      "source": [
        "for m in Mukuva.list_models():\n",
        "  if 'generateContent' in m.supported_generation_methods:\n",
        "    print(m.name)"
      ],
      "metadata": {
        "colab": {
          "base_uri": "https://localhost:8080/",
          "height": 225
        },
        "id": "vvXEBUuk70n6",
        "outputId": "acf1884b-a546-4d85-f0ef-569c38412e32"
      },
      "execution_count": 3,
      "outputs": [
        {
          "output_type": "stream",
          "name": "stdout",
          "text": [
            "models/gemini-1.0-pro\n",
            "models/gemini-1.0-pro-001\n",
            "models/gemini-1.0-pro-latest\n",
            "models/gemini-1.0-pro-vision-latest\n",
            "models/gemini-1.5-flash\n",
            "models/gemini-1.5-flash-001\n",
            "models/gemini-1.5-flash-latest\n",
            "models/gemini-1.5-pro\n",
            "models/gemini-1.5-pro-001\n",
            "models/gemini-1.5-pro-latest\n",
            "models/gemini-pro\n",
            "models/gemini-pro-vision\n"
          ]
        }
      ]
    },
    {
      "cell_type": "code",
      "source": [
        "model = Mukuva.GenerativeModel(\"gemini-1.5-pro-latest\")"
      ],
      "metadata": {
        "id": "XQQVix4_7aKr"
      },
      "execution_count": 4,
      "outputs": []
    },
    {
      "cell_type": "code",
      "source": [
        "response = model.generate_content(\"Quem Criou o modelo de IA Gemini?\")\n",
        "\n",
        "response.text"
      ],
      "metadata": {
        "colab": {
          "base_uri": "https://localhost:8080/",
          "height": 36
        },
        "id": "jAeKUzUs7wnp",
        "outputId": "7b37b80f-3e26-48db-a15f-5a183bef4088"
      },
      "execution_count": 6,
      "outputs": [
        {
          "output_type": "execute_result",
          "data": {
            "text/plain": [
              "'O modelo de IA Gemini foi criado pelo **Google**. \\n'"
            ],
            "application/vnd.google.colaboratory.intrinsic+json": {
              "type": "string"
            }
          },
          "metadata": {},
          "execution_count": 6
        }
      ]
    },
    {
      "cell_type": "code",
      "source": [
        "Mukuva.chat = model.start_chat(history=[])\n",
        "\n",
        "prompt = input (\"Aguardando prompt:\")\n",
        "\n",
        "while prompt != \"fim\":\n",
        "  response = Mukuva.chat.send_message(prompt)\n",
        "\n",
        "  print(response.text)\n",
        "\n",
        "  prompt = input (\"Aguardando prompt:\")"
      ],
      "metadata": {
        "colab": {
          "base_uri": "https://localhost:8080/",
          "height": 1000
        },
        "id": "ZUamZAxG80h4",
        "outputId": "e947db2a-183f-498d-cb3f-66d68203b5e0"
      },
      "execution_count": 20,
      "outputs": [
        {
          "name": "stdout",
          "output_type": "stream",
          "text": [
            "Aguardando prompt:Fale sobre Angola\n",
            "## Angola: Um país de contrastes e potencial inexplorado\n",
            "\n",
            "Angola, localizada na costa oeste da África Austral, é um país fascinante com uma rica história, cultura vibrante e beleza natural estonteante. \n",
            "\n",
            "**Do passado colonial à reconstrução:**\n",
            "\n",
            "* Colonizada por Portugal no século XVI, Angola conquistou sua independência em 1975 após uma longa luta armada. \n",
            "* Uma guerra civil subsequente, que durou até 2002, deixou cicatrizes profundas no país, mas também gerou um povo resiliente e determinado.\n",
            "* Desde então, Angola tem se esforçado para reconstruir sua infraestrutura e economia, com foco no desenvolvimento social e na consolidação da paz.\n",
            "\n",
            "**Riqueza cultural e belezas naturais:**\n",
            "\n",
            "* Angola possui uma cultura rica e diversificada, com influências africanas, portuguesas e brasileiras. \n",
            "* A música e a dança angolanas são mundialmente famosas, com ritmos contagiantes como o Kizomba e a Semba.\n",
            "* O país abriga paisagens deslumbrantes, desde as dunas do deserto do Namibe às cachoeiras da Serra da Leba e as praias paradisíacas do litoral.\n",
            "\n",
            "**Desafios e oportunidades:**\n",
            "\n",
            "* Apesar dos avanços, Angola ainda enfrenta desafios como a desigualdade social, a corrupção e a dependência do petróleo.\n",
            "* No entanto, o país possui um enorme potencial de crescimento, com vastos recursos naturais, uma população jovem e uma localização estratégica.\n",
            "* O governo tem implementado reformas para diversificar a economia, atrair investimentos estrangeiros e promover o desenvolvimento sustentável.\n",
            "\n",
            "**Angola em resumo:**\n",
            "\n",
            "* **Capital:** Luanda\n",
            "* **Língua oficial:** Português\n",
            "* **População:** Cerca de 35 milhões de habitantes\n",
            "* **Moeda:** Kwanza angolano (AOA)\n",
            "* **Pontos turísticos:** Quedas de Kalandula, Parque Nacional da Kissama, Fortaleza de São Miguel, Ilha do Mussulo\n",
            "\n",
            "**Em conclusão:**\n",
            "\n",
            "Angola é um país em transformação, com um passado complexo, um presente desafiador e um futuro promissor. Suas belezas naturais, riqueza cultural e potencial econômico a tornam um destino fascinante para turistas e investidores. \n",
            "\n",
            "Aguardando prompt:o que tens a respeito da Universidade Cuito Cuanavale?\n",
            "A Universidade Cuito Cuanavale (UCC) é uma instituição pública de ensino superior relativamente jovem em Angola, tendo sido criada em 2009. Seu nome homenageia a Batalha de Cuito Cuanavale, um evento crucial na luta pela independência de Angola e do fim do apartheid na África do Sul.\n",
            "\n",
            "**Estrutura e Oferta Acadêmica:**\n",
            "\n",
            "A UCC é organizada em faculdades e institutos superiores politécnicos, distribuídos por três províncias do sul de Angola:\n",
            "\n",
            "* **Campus Sede (Cuito Cuanavale, Cuando Cubango):** \n",
            "    * Faculdade de Medicina Veterinária \n",
            "    * Faculdade de Ciências Agrárias \n",
            "    * Instituto Superior Politécnico\n",
            "* **Campus do Lubango (Huíla):**\n",
            "    * Faculdade de Direito \n",
            "    * Faculdade de Economia \n",
            "    * Faculdade de Medicina Humana\n",
            "* **Campus de Menongue (Cuando Cubango):**\n",
            "    * Instituto Superior de Ciências da Educação\n",
            "\n",
            "A UCC oferece cursos de graduação e pós-graduação em áreas como:\n",
            "\n",
            "* **Ciências Agrárias:** Medicina Veterinária, Engenharia Agronómica\n",
            "* **Ciências da Saúde:** Medicina Humana, Enfermagem\n",
            "* **Ciências Sociais e Humanas:** Direito, Economia, Gestão\n",
            "* **Ciências da Educação:** Formação de professores em diversas áreas\n",
            "\n",
            "**Desafios e Perspectivas:**\n",
            "\n",
            "A UCC, como muitas instituições de ensino superior em Angola, enfrenta desafios como:\n",
            "\n",
            "* **Infraestrutura limitada:** Necessidade de investimento em instalações, laboratórios e equipamentos.\n",
            "* **Dificuldade em atrair e reter docentes qualificados:** Baixos salários e falta de incentivos.\n",
            "* **Acesso limitado à internet e tecnologias de informação:** Impacto negativo na qualidade do ensino e pesquisa.\n",
            "\n",
            "Apesar dos desafios, a UCC tem um papel crucial no desenvolvimento do sul de Angola, formando profissionais qualificados e promovendo a pesquisa científica em áreas estratégicas para a região.\n",
            "\n",
            "**Informações adicionais podem ser encontradas no website da universidade (caso haja um disponível) ou em outras fontes oficiais do governo angolano.**\n",
            "\n",
            "Espero que esta informação seja útil! 😊 \n",
            "\n",
            "Aguardando prompt:fim\n"
          ]
        }
      ]
    },
    {
      "cell_type": "markdown",
      "source": [],
      "metadata": {
        "id": "CEoVE6U2HdFg"
      }
    }
  ]
}